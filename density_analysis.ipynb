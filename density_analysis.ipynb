{
 "cells": [
  {
   "cell_type": "code",
   "execution_count": null,
   "id": "7bf12d14-c7ec-4432-8ba0-11d26ef597da",
   "metadata": {},
   "outputs": [],
   "source": [
    "import plotly.express as px\n",
    "import pandas as pd\n",
    "import plotly.io as pio\n",
    "\n",
    "pio.renderers.default = \"notebook\"\n",
    "\n",
    "file_names = [\n",
    "    \"opti_original_primal.csv\",\n",
    "    \"opti_original_dual.csv\",\n",
    "    \"opti_original_joint.csv\",\n",
    "    \"opti_reduced_primal.csv\",\n",
    "    \"opti_reduced_dual.csv\",\n",
    "    \"opti_reduced_joint.csv\",\n",
    "]\n",
    "for file in file_names:\n",
    "    data_frame = pd.read_csv(file)\n",
    "\n",
    "    fig = px.scatter_3d(\n",
    "        data_frame,\n",
    "        x=\"|V|\",\n",
    "        y=\"|E|\",\n",
    "        z=\"density\",\n",
    "        color=\"optimality\",\n",
    "        hover_name=\"instance\",\n",
    "        # symbol=family,\n",
    "        # width=1000,\n",
    "        # height=1000,\n",
    "        size=[0.02 for _ in range(188)],\n",
    "    )\n",
    "    \n",
    "    # fig.update_layout(\n",
    "    #     scene = dict(\n",
    "    #         xaxis = dict(nticks=4, range=[0,1100],),\n",
    "    #                     yaxis = dict(nticks=4, range=[0,500000],),\n",
    "    #                     zaxis = dict(nticks=4, range=[0,1.3],),),\n",
    "    #     width=700,\n",
    "    #     margin=dict(r=20, l=10, b=10, t=10))\n",
    "    \n",
    "\n",
    "    fig.update_layout(\n",
    "        title=file,\n",
    "        font=dict(\n",
    "            family=\"Courier New, monospace\",\n",
    "        )\n",
    "    )\n",
    "    # fig.write_html(\"first_figure.html\", auto_open=True)\n",
    "    fig.show()\n"
   ]
  },
  {
   "cell_type": "code",
   "execution_count": null,
   "id": "5ceb60fe",
   "metadata": {},
   "outputs": [],
   "source": []
  }
 ],
 "metadata": {
  "kernelspec": {
   "display_name": "Python 3.10.8 ('venv': venv)",
   "language": "python",
   "name": "python3"
  },
  "language_info": {
   "codemirror_mode": {
    "name": "ipython",
    "version": 3
   },
   "file_extension": ".py",
   "mimetype": "text/x-python",
   "name": "python",
   "nbconvert_exporter": "python",
   "pygments_lexer": "ipython3",
   "version": "3.11.4"
  },
  "vscode": {
   "interpreter": {
    "hash": "9eaf69b6757a651e645e56d9d716c3a812f215701a49f04d9f527cd12e241730"
   }
  }
 },
 "nbformat": 4,
 "nbformat_minor": 5
}
